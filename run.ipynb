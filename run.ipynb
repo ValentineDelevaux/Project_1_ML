{
 "cells": [
  {
   "cell_type": "markdown",
   "id": "9bd6eb2b-400a-4224-a590-50a315b62068",
   "metadata": {},
   "source": [
    "# PROJECT 1 MACHINE LEARNING"
   ]
  },
  {
   "cell_type": "code",
   "execution_count": 1,
   "id": "2b436b1c-97c9-4c6c-adf1-3c740fdfb631",
   "metadata": {
    "tags": []
   },
   "outputs": [],
   "source": [
    "from implementations import *\n",
    "from helpers import *\n",
    "import matplotlib.pyplot as plt"
   ]
  },
  {
   "cell_type": "markdown",
   "id": "92b7cead-dc67-4e63-a903-5954b4c7bb90",
   "metadata": {},
   "source": [
    "## Loading data"
   ]
  },
  {
   "cell_type": "code",
   "execution_count": 2,
   "id": "e9112c47-19c1-4fa9-92f3-fc4327a104f7",
   "metadata": {
    "tags": []
   },
   "outputs": [],
   "source": [
    "x_train, x_test, y_train, train_ids, test_ids = load_csv_data('dataset/data/', sub_sample=False)"
   ]
  },
  {
   "cell_type": "code",
   "execution_count": 3,
   "id": "9868bfc5-c068-4ebd-b6b9-47a848391b4b",
   "metadata": {
    "tags": []
   },
   "outputs": [],
   "source": [
    "#Transformation of 'nan' in 0 in x_train\n",
    "#x_train_cleaned = np.nan_to_num(x_train, nan = 0)"
   ]
  },
  {
   "cell_type": "code",
   "execution_count": 4,
   "id": "1fe34ae6-c68e-4ba6-b44b-2ba0d8858131",
   "metadata": {
    "tags": []
   },
   "outputs": [
    {
     "name": "stdout",
     "output_type": "stream",
     "text": [
      "(328135, 321)\n"
     ]
    }
   ],
   "source": [
    "print(x_train.shape)"
   ]
  },
  {
   "cell_type": "code",
   "execution_count": 5,
   "id": "90ab4df3-a048-42db-98b7-24e624bfbe02",
   "metadata": {
    "tags": []
   },
   "outputs": [
    {
     "data": {
      "image/png": "[encoded data removed]",
      "text/plain": [
       "<Figure size 640x480 with 1 Axes>"
      ]
     },
     "metadata": {},
     "output_type": "display_data"
    }
   ],
   "source": [
    "plt.scatter(train_ids, x_train[:,17])\n",
    "plt.show()"
   ]
  },
  {
   "cell_type": "markdown",
   "id": "bd65d20f-6c5a-4924-a9cc-96f69e133966",
   "metadata": {},
   "source": [
    "### Essaie : Enlever toutes les colonnes ou il manque quelque chose"
   ]
  },
  {
   "cell_type": "code",
   "execution_count": 6,
   "id": "aa97fa4e-0cf7-4f8b-bfb2-5fd84bd1770a",
   "metadata": {
    "tags": []
   },
   "outputs": [],
   "source": [
    "x_train_cleaned = x_train[ : , ~np.all(np.isnan(x_train), axis = 0)]"
   ]
  },
  {
   "cell_type": "code",
   "execution_count": 7,
   "id": "fb9064f2-af41-4c72-98a6-62f4d1c26b41",
   "metadata": {
    "tags": []
   },
   "outputs": [
    {
     "name": "stdout",
     "output_type": "stream",
     "text": [
      "(328135, 321)\n"
     ]
    }
   ],
   "source": [
    "print(x_train_cleaned.shape)"
   ]
  },
  {
   "cell_type": "code",
   "execution_count": null,
   "id": "24eb20e1-5132-4970-b93b-ae6ce341fb27",
   "metadata": {},
   "outputs": [],
   "source": []
  }
 ],
 "metadata": {
  "kernelspec": {
   "display_name": "Python 3 (ipykernel)",
   "language": "python",
   "name": "python3"
  },
  "language_info": {
   "codemirror_mode": {
    "name": "ipython",
    "version": 3
   },
   "file_extension": ".py",
   "mimetype": "text/x-python",
   "name": "python",
   "nbconvert_exporter": "python",
   "pygments_lexer": "ipython3",
   "version": "3.11.4"
  }
 },
 "nbformat": 4,
 "nbformat_minor": 5
}
