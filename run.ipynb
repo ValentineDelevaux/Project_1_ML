{
 "cells": [
  {
   "cell_type": "markdown",
   "id": "9bd6eb2b-400a-4224-a590-50a315b62068",
   "metadata": {},
   "source": [
    "# PROJECT 1 MACHINE LEARNING"
   ]
  },
  {
   "cell_type": "code",
   "execution_count": 7,
   "id": "2b436b1c-97c9-4c6c-adf1-3c740fdfb631",
   "metadata": {
    "tags": []
   },
   "outputs": [],
   "source": [
    "from implementations import *\n",
    "from helpers import *\n",
    "import matplotlib.pyplot as plt\n",
    "import numpy as np"
   ]
  },
  {
   "cell_type": "markdown",
   "id": "92b7cead-dc67-4e63-a903-5954b4c7bb90",
   "metadata": {},
   "source": [
    "## Loading data"
   ]
  },
  {
   "cell_type": "code",
   "execution_count": 4,
   "id": "e9112c47-19c1-4fa9-92f3-fc4327a104f7",
   "metadata": {
    "tags": []
   },
   "outputs": [],
   "source": [
    "x_train, x_test, y_train, train_ids, test_ids = load_csv_data('dataset/data/', sub_sample=False)"
   ]
  },
  {
   "cell_type": "code",
   "execution_count": 91,
   "id": "1fe34ae6-c68e-4ba6-b44b-2ba0d8858131",
   "metadata": {
    "tags": []
   },
   "outputs": [
    {
     "name": "stdout",
     "output_type": "stream",
     "text": [
      "Shapes of x_train : (328135, 321)\n",
      "Shapes of y_train : (328135,)\n",
      "Shapes of x_test : (109379, 321)\n"
     ]
    }
   ],
   "source": [
    "print('Shapes of x_train :', x_train.shape)\n",
    "print('Shapes of y_train :', y_train.shape)\n",
    "print('Shapes of x_test :', x_test.shape)"
   ]
  },
  {
   "cell_type": "code",
   "execution_count": 61,
   "id": "373c69d0-0054-44b4-8584-da0382c592ec",
   "metadata": {
    "tags": []
   },
   "outputs": [],
   "source": [
    "def standardize(x):\n",
    "    \"\"\"Standardize the original data set.\"\"\"\n",
    "    mean_x = np.mean(x, axis=0)\n",
    "    x = x - mean_x\n",
    "    std_x = np.std(x, axis=0)\n",
    "    x = x / std_x\n",
    "    return x, mean_x, std_x"
   ]
  },
  {
   "cell_type": "markdown",
   "id": "5261f23b-ed21-417e-8080-a76461e3b09f",
   "metadata": {},
   "source": [
    "### Preparation of data : nan -> 0, standardization"
   ]
  },
  {
   "cell_type": "code",
   "execution_count": 70,
   "id": "90ab4df3-a048-42db-98b7-24e624bfbe02",
   "metadata": {
    "tags": []
   },
   "outputs": [
    {
     "name": "stdout",
     "output_type": "stream",
     "text": [
      "(328135, 321)\n",
      "(328135, 321)\n"
     ]
    }
   ],
   "source": [
    "x_train_cleaned = np.nan_to_num(x_train, nan=0.0)\n",
    "print(x_train_cleaned.shape)\n",
    "x_train_final,_,_ = standardize(x_train_cleaned)\n",
    "print(x_train_final.shape)"
   ]
  },
  {
   "cell_type": "markdown",
   "id": "34aa7906-ab5d-4d35-8f01-f145675a9843",
   "metadata": {},
   "source": [
    "### Computation of initial w, and then algo of logistic regression"
   ]
  },
  {
   "cell_type": "code",
   "execution_count": 98,
   "id": "24eb20e1-5132-4970-b93b-ae6ce341fb27",
   "metadata": {},
   "outputs": [],
   "source": [
    "#Using linalg.pinv because x_train_cleaned is a singular matrix so no inverse\n",
    "w = np.linalg.pinv(x_train_final.T.dot(x_train_final)).dot(x_train_final.T.dot(y_train))"
   ]
  },
  {
   "cell_type": "code",
   "execution_count": 97,
   "id": "59d21335-13fd-4a62-9137-96d6ef601a47",
   "metadata": {
    "tags": []
   },
   "outputs": [],
   "source": [
    "nb_steps = 20\n",
    "gamma = 0.001\n",
    "\n",
    "for i in range(nb_steps):\n",
    "    loss, w = logistic_regression(y_train, x_train_cleaned, w, gamma)"
   ]
  },
  {
   "cell_type": "markdown",
   "id": "e077b675-b900-41ef-bc5e-596645170f3c",
   "metadata": {},
   "source": [
    "### Computation of the y predicted with the x_test and "
   ]
  },
  {
   "cell_type": "code",
   "execution_count": 86,
   "id": "42de7902-49cb-4849-8376-0c37b1c2dd9d",
   "metadata": {
    "tags": []
   },
   "outputs": [
    {
     "name": "stdout",
     "output_type": "stream",
     "text": [
      "[0. 1. 0. ... 1. 1. 1.]\n"
     ]
    }
   ],
   "source": [
    "x_test_cleaned = np.nan_to_num(x_train, nan=0.0)\n",
    "x_test_final,_,_ = standardize(x_test_cleaned)\n",
    "x = np.dot(x_test_final, w)\n",
    "y_pred_proba = sigmoid (np.dot(x_test_final, w))\n",
    "print(y_pred_proba)"
   ]
  },
  {
   "cell_type": "code",
   "execution_count": 88,
   "id": "881be09e-c44f-4eeb-81d5-e5505acc0592",
   "metadata": {
    "tags": []
   },
   "outputs": [
    {
     "name": "stdout",
     "output_type": "stream",
     "text": [
      "[0 1 0 ... 1 1 1]\n"
     ]
    }
   ],
   "source": [
    "threshold = 0.5\n",
    "y_pred = (y_pred_proba >= threshold).astype(int)\n",
    "print(y_pred)"
   ]
  },
  {
   "cell_type": "code",
   "execution_count": 89,
   "id": "4de84eec-3d6d-4705-bf0b-96e50a6e6b48",
   "metadata": {
    "tags": []
   },
   "outputs": [
    {
     "name": "stdout",
     "output_type": "stream",
     "text": [
      "[-1  1 -1 ...  1  1  1]\n"
     ]
    }
   ],
   "source": [
    "y_pred[y_pred == 0] = -1\n",
    "print(y_pred)"
   ]
  },
  {
   "cell_type": "code",
   "execution_count": 93,
   "id": "ac2dd4a3-f1ff-47ac-ade8-af746aaee5ee",
   "metadata": {
    "tags": []
   },
   "outputs": [],
   "source": [
    "name = 'sample-submission.csv '\n",
    "create_csv_submission(test_ids, y_pred, name)"
   ]
  },
  {
   "cell_type": "code",
   "execution_count": null,
   "id": "74ed4f46-e6a3-4382-a3d4-f67161f23d27",
   "metadata": {},
   "outputs": [],
   "source": []
  },
  {
   "cell_type": "code",
   "execution_count": null,
   "id": "865e5bb5-585e-4eab-a38a-99fb350eefa3",
   "metadata": {},
   "outputs": [],
   "source": []
  }
 ],
 "metadata": {
  "kernelspec": {
   "display_name": "Python 3 (ipykernel)",
   "language": "python",
   "name": "python3"
  },
  "language_info": {
   "codemirror_mode": {
    "name": "ipython",
    "version": 3
   },
   "file_extension": ".py",
   "mimetype": "text/x-python",
   "name": "python",
   "nbconvert_exporter": "python",
   "pygments_lexer": "ipython3",
   "version": "3.11.4"
  }
 },
 "nbformat": 4,
 "nbformat_minor": 5
}
