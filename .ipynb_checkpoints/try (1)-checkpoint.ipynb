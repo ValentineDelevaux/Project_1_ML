{
 "cells": [
  {
   "cell_type": "markdown",
   "id": "f5033210-8301-4857-a975-47dcb365e80a",
   "metadata": {},
   "source": [
    "Implementations"
   ]
  },
  {
   "cell_type": "code",
   "execution_count": 1,
   "id": "56d7124d-c406-40d5-847b-d3e4d62b5379",
   "metadata": {
    "tags": []
   },
   "outputs": [],
   "source": [
    "from implementations import *\n",
    "from helpers import *\n",
    "import matplotlib.pyplot as plt\n",
    "import numpy as np"
   ]
  },
  {
   "cell_type": "markdown",
   "id": "e8155b57-1c16-48d9-bd82-e8a85d37af83",
   "metadata": {},
   "source": [
    "# 1- Load data"
   ]
  },
  {
   "cell_type": "code",
   "execution_count": null,
   "id": "8ca861ce-6071-4920-b488-e54af833ade7",
   "metadata": {
    "tags": []
   },
   "outputs": [],
   "source": [
    "x_train, x_test, y_train, train_ids, test_ids = load_csv_data('dataset_to_release/', sub_sample=False)"
   ]
  },
  {
   "cell_type": "code",
   "execution_count": 46,
   "id": "bbeb1e92-7160-4c4f-9916-0fff6018d05f",
   "metadata": {
    "tags": []
   },
   "outputs": [
    {
     "name": "stdout",
     "output_type": "stream",
     "text": [
      "Shapes of x_train : (300000, 31)\n",
      "Shapes of y_train : (300000, 1)\n",
      "Shapes of x_test : (2746, 31)\n"
     ]
    }
   ],
   "source": [
    "x_train=np.random.rand(300000, 31)\n",
    "y_train=np.random.rand(300000, 1)\n",
    "x_test=np.random.rand(2746, 31)\n",
    "print('Shapes of x_train :', x_train.shape)\n",
    "print('Shapes of y_train :', y_train.shape)\n",
    "print('Shapes of x_test :', x_test.shape)"
   ]
  },
  {
   "cell_type": "markdown",
   "id": "291d75f2-77b1-4b7b-837e-e6067b4e79b0",
   "metadata": {},
   "source": [
    "# 2- Clean data"
   ]
  },
  {
   "cell_type": "markdown",
   "id": "6e3ff6b3-34f1-4d1b-88b1-6669888f16dc",
   "metadata": {},
   "source": [
    "standardization"
   ]
  },
  {
   "cell_type": "code",
   "execution_count": 3,
   "id": "cf67115d-2a4c-4f74-8c4f-e72bd5994dc1",
   "metadata": {
    "tags": []
   },
   "outputs": [],
   "source": [
    "def standardize_(x):\n",
    "    \"\"\"Standardize the original data set.\"\"\"\n",
    "    mean_x = np.mean(x, axis=0)\n",
    "    x = x - mean_x\n",
    "    std_x = np.std(x, axis=0)\n",
    "    # Vérifiez si std_x est nul (zéro) avant de diviser\n",
    "    non_zero_std_indices = std_x != 0\n",
    "    x[:, non_zero_std_indices] = x[:, non_zero_std_indices] / std_x[non_zero_std_indices]\n",
    "    return x, non_zero_std_indices"
   ]
  },
  {
   "cell_type": "code",
   "execution_count": 4,
   "id": "b6e992fa-0bc5-4a9f-b112-bae00c389390",
   "metadata": {
    "tags": []
   },
   "outputs": [
    {
     "name": "stdout",
     "output_type": "stream",
     "text": [
      "(300000, 31)\n"
     ]
    }
   ],
   "source": [
    "#Enlever premiere colonne x_train car rempli de nan\n",
    "x_train = x_train[:,0:]\n",
    "\n",
    "#Remplacer les nan par la mediane de chaque colonne\n",
    "median = np.nanmedian(x_train, axis = 0)\n",
    "x_train_filled = x_train\n",
    "for col in range(x_train.shape[1]):\n",
    "    x_train_filled[:,col] = np.nan_to_num(x_train[:,col], nan= median[col])\n",
    "\n",
    "x_train_standardized, col_to_keep = standardize_(x_train_filled)\n",
    "\n",
    "#Enlever les colonnes qui ont une std = 0\n",
    "x_train_cleaned = x_train_standardized[:, col_to_keep]\n",
    "print(x_train_cleaned.shape)"
   ]
  },
  {
   "cell_type": "markdown",
   "id": "4ae799f6-603b-43fa-9be3-7d90e764ec53",
   "metadata": {},
   "source": [
    "Correlation Matrix"
   ]
  },
  {
   "cell_type": "code",
   "execution_count": 5,
   "id": "7af946bb-743a-455a-b8fd-a26ef378b381",
   "metadata": {},
   "outputs": [
    {
     "data": {
      "image/png": "[encoded data removed]",
      "text/plain": [
       "<Figure size 300x300 with 2 Axes>"
      ]
     },
     "metadata": {},
     "output_type": "display_data"
    }
   ],
   "source": [
    "correlation_matrix = np.corrcoef(x_train_cleaned, rowvar = False)\n",
    "plt.figure(figsize=(3, 3))\n",
    "plt.imshow(correlation_matrix, cmap='coolwarm', interpolation='nearest')\n",
    "plt.colorbar()\n",
    "plt.show()"
   ]
  },
  {
   "cell_type": "code",
   "execution_count": 6,
   "id": "1e1f9895-1c31-49eb-8f44-90af16408dda",
   "metadata": {},
   "outputs": [],
   "source": [
    "#Remplacer la partie triangulaire basse de la matrice par des 0\n",
    "m = np.tril(np.ones(correlation_matrix.shape), k = 0).astype(bool)\n",
    "correlation_matrix[m] = 0"
   ]
  },
  {
   "cell_type": "markdown",
   "id": "ac969971-104f-469a-ae29-bf59b0fc2841",
   "metadata": {},
   "source": [
    "Similar columns deletion"
   ]
  },
  {
   "cell_type": "code",
   "execution_count": 7,
   "id": "063c8ae0-51d8-493e-85bf-e3a920d8f3d1",
   "metadata": {},
   "outputs": [
    {
     "name": "stdout",
     "output_type": "stream",
     "text": [
      "(300000, 31)\n"
     ]
    }
   ],
   "source": [
    "#Calcul des colonnes qui se ressemblent au dessus d'un threshold\n",
    "threshold = 0.8\n",
    "\n",
    "#Creation of a matrix True/False where True == When the correlation is above the treshold\n",
    "mask = np.logical_and(np.abs(correlation_matrix) >= threshold, np.abs(correlation_matrix) < 1)\n",
    "correlated_features = np.where(mask == True)\n",
    "\n",
    "#indices_correlated has the indices of the correlated columns\n",
    "indices_correlated = np.unique(correlated_features[0])\n",
    "\n",
    "#Removes the correlated columns to x_train_cleaned\n",
    "x_train_done = np.delete(x_train_cleaned, indices_correlated, axis = 1)\n",
    "print(x_train_done.shape)"
   ]
  },
  {
   "cell_type": "markdown",
   "id": "d77d8adb-546f-49e9-bae5-58ebf8b8e7fc",
   "metadata": {},
   "source": [
    "# 3- Split data"
   ]
  },
  {
   "cell_type": "code",
   "execution_count": 8,
   "id": "219c5865-ab08-4031-8e4e-7edf78410871",
   "metadata": {},
   "outputs": [],
   "source": [
    "#We split x_train in a train part and a validation part\n",
    "seed = 12\n",
    "ratio = 0.8\n",
    "\n",
    "# set seed\n",
    "np.random.seed(seed)\n",
    "\n",
    "#Number of elements in y\n",
    "number = y_train.shape[0]\n",
    "\n",
    "index = np.random.permutation(number)\n",
    "\n",
    "#Separate into 2 categories at the split\n",
    "split = int(np.floor(ratio * len(x_train_done)))\n",
    "train = index[:split]\n",
    "test = index[split:]\n",
    "\n",
    "#create the new datasets\n",
    "x_tr = x_train_done[train]\n",
    "y_tr = y_train[train]\n",
    "x_te = x_train_done[test]\n",
    "y_te = y_train[test]"
   ]
  },
  {
   "cell_type": "markdown",
   "id": "ec8cafbe-f1fa-4693-8e5a-a572837ba4a2",
   "metadata": {},
   "source": [
    "# 4- First step w"
   ]
  },
  {
   "cell_type": "markdown",
   "id": "99d91df4-1477-4a53-9227-ceb894641020",
   "metadata": {},
   "source": [
    "### a) Least Squares"
   ]
  },
  {
   "cell_type": "code",
   "execution_count": null,
   "id": "31d7e430-7cef-4989-a8bb-2da861feca90",
   "metadata": {},
   "outputs": [],
   "source": [
    "'''\n",
    "w_initial, loss = least_squares(y_train, x_train_final)\n",
    "'''"
   ]
  },
  {
   "cell_type": "markdown",
   "id": "0cf41ded-2ebf-4460-9326-ae88fdaefa7c",
   "metadata": {},
   "source": [
    "### b) Ridge Regression"
   ]
  },
  {
   "cell_type": "code",
   "execution_count": null,
   "id": "e7027536-ff7f-4c71-a940-a49b8c2ba4e4",
   "metadata": {},
   "outputs": [],
   "source": [
    "'''\n",
    "lambda_ = 0.1\n",
    "w_initial, loss = ridge_regression(y_train, new_data, lambda_)\n",
    "'''"
   ]
  },
  {
   "cell_type": "markdown",
   "id": "1863bac2-5ce6-4e3c-9f9f-6ca400ca8c5f",
   "metadata": {},
   "source": [
    "### c) Looking for good hyperparameters  lambda_ for ridge regression"
   ]
  },
  {
   "cell_type": "code",
   "execution_count": 9,
   "id": "b469777b-5281-406d-a29f-2f4b4cc46ab1",
   "metadata": {},
   "outputs": [],
   "source": [
    "lambdas = np.linspace(0,0.5,50)\n",
    "weights = []\n",
    "losses_te = []\n",
    "\n",
    "for lambda_ in lambdas:\n",
    "    w,_ = ridge_regression(y_tr, x_tr, lambda_)\n",
    "    weights.append(w)\n",
    "    loss = compute_loss(y_te, x_te, w)\n",
    "    losses_te.append(loss)"
   ]
  },
  {
   "cell_type": "code",
   "execution_count": 10,
   "id": "7b6d38f0-b530-4eb7-94ca-18f989507271",
   "metadata": {},
   "outputs": [
    {
     "name": "stdout",
     "output_type": "stream",
     "text": [
      "Smallest loss :  0.16701787935505852\n",
      "Best lambda :  0.5\n"
     ]
    },
    {
     "data": {
      "image/png": "[encoded data removed]",
      "text/plain": [
       "<Figure size 300x300 with 1 Axes>"
      ]
     },
     "metadata": {},
     "output_type": "display_data"
    }
   ],
   "source": [
    "best_index = losses_te.index(min(losses_te))\n",
    "print('Smallest loss : ',losses_te[best_index])\n",
    "print('Best lambda : ',lambdas[best_index])\n",
    "plt.figure(figsize = (3,3))\n",
    "plt.xlabel('lambdas')\n",
    "plt.ylabel('losses')\n",
    "plt.plot(lambdas, losses_te)\n",
    "plt.show()"
   ]
  },
  {
   "cell_type": "code",
   "execution_count": 11,
   "id": "8e9d01f9-d398-46bf-a830-81ee582b5e43",
   "metadata": {},
   "outputs": [],
   "source": [
    "w_initial = weights[best_index]"
   ]
  },
  {
   "cell_type": "markdown",
   "id": "54cca29c-7f97-4c2a-8626-826143acb9af",
   "metadata": {},
   "source": [
    "# 4- Gradient descent"
   ]
  },
  {
   "cell_type": "markdown",
   "id": "295ab58a-a42b-49c3-a9f5-a40dda0985db",
   "metadata": {},
   "source": [
    "### a) With Logistic Regression"
   ]
  },
  {
   "cell_type": "code",
   "execution_count": null,
   "id": "c1438d5a-a1e2-4e12-926e-c9871f998c05",
   "metadata": {},
   "outputs": [],
   "source": [
    "'''\n",
    "nb_steps = 150\n",
    "gamma = 0.01\n",
    "\n",
    "for i in range(nb_steps):\n",
    "    w_final, loss= logistic_regression(y_train, x_train_final, w_initial, gamma)\n",
    "'''"
   ]
  },
  {
   "cell_type": "markdown",
   "id": "de881a60-1aa4-42c3-91ea-c97470d9b960",
   "metadata": {},
   "source": [
    "### b) With Regularized Logistic Regression"
   ]
  },
  {
   "cell_type": "code",
   "execution_count": null,
   "id": "e029da5b-a2f8-4fe7-a716-72ccdd95d0f6",
   "metadata": {},
   "outputs": [],
   "source": [
    "'''\n",
    "nb_steps = 150\n",
    "gamma = 0.01\n",
    "\n",
    "for i in range(nb_steps):\n",
    "    w_final, loss= reg_logistic_regression(y_train, new_data, w_initial, gamma, lambda_)\n",
    "'''"
   ]
  },
  {
   "cell_type": "markdown",
   "id": "4db2e558-1ef7-4dfa-97eb-e64408732520",
   "metadata": {},
   "source": [
    "### c) With search of best hyperprameters lambda and gamma for ridge regression AND regularized logistic regression"
   ]
  },
  {
   "cell_type": "code",
   "execution_count": 12,
   "id": "f800c3cf-7beb-44b3-b011-4acdf01c9140",
   "metadata": {},
   "outputs": [
    {
     "ename": "NameError",
     "evalue": "name 'calculate_loss' is not defined",
     "output_type": "error",
     "traceback": [
      "\u001b[0;31m---------------------------------------------------------------------------\u001b[0m",
      "\u001b[0;31mNameError\u001b[0m                                 Traceback (most recent call last)",
      "Cell \u001b[0;32mIn[12], line 15\u001b[0m\n\u001b[1;32m     11\u001b[0m w, _ \u001b[38;5;241m=\u001b[39m ridge_regression(y_tr, x_tr, lambda_)\n\u001b[1;32m     13\u001b[0m \u001b[38;5;28;01mfor\u001b[39;00m step \u001b[38;5;129;01min\u001b[39;00m \u001b[38;5;28mrange\u001b[39m(nb_steps):\n\u001b[0;32m---> 15\u001b[0m     loss, w \u001b[38;5;241m=\u001b[39m \u001b[43mreg_logistic_regression\u001b[49m\u001b[43m(\u001b[49m\u001b[43my_tr\u001b[49m\u001b[43m,\u001b[49m\u001b[43m \u001b[49m\u001b[43mx_tr\u001b[49m\u001b[43m,\u001b[49m\u001b[43m \u001b[49m\u001b[43mw\u001b[49m\u001b[43m,\u001b[49m\u001b[43m \u001b[49m\u001b[43mgamma\u001b[49m\u001b[43m,\u001b[49m\u001b[43m \u001b[49m\u001b[43mlambda_\u001b[49m\u001b[43m)\u001b[49m\n\u001b[1;32m     17\u001b[0m weights[i,j] \u001b[38;5;241m=\u001b[39m w\n\u001b[1;32m     18\u001b[0m loss_te \u001b[38;5;241m=\u001b[39m compute_loss(y_te, x_te, w)\n",
      "File \u001b[0;32m~/ML Project 1/implementations.py:420\u001b[0m, in \u001b[0;36mreg_logistic_regression\u001b[0;34m(y, tx, w, gamma, lambda_)\u001b[0m\n\u001b[1;32m    389\u001b[0m \u001b[38;5;250m\u001b[39m\u001b[38;5;124;03m\"\"\"\u001b[39;00m\n\u001b[1;32m    390\u001b[0m \u001b[38;5;124;03mDo one step of gradient descent, using the penalized logistic regression.\u001b[39;00m\n\u001b[1;32m    391\u001b[0m \u001b[38;5;124;03mReturn the loss and updated w.\u001b[39;00m\n\u001b[0;32m   (...)\u001b[0m\n\u001b[1;32m    416\u001b[0m \u001b[38;5;124;03m       [0.24228716]])\u001b[39;00m\n\u001b[1;32m    417\u001b[0m \u001b[38;5;124;03m\"\"\"\u001b[39;00m\n\u001b[1;32m    418\u001b[0m \u001b[38;5;66;03m# ***************************************************\u001b[39;00m\n\u001b[1;32m    419\u001b[0m \u001b[38;5;66;03m# return loss, gradient: \u001b[39;00m\n\u001b[0;32m--> 420\u001b[0m loss, gradient \u001b[38;5;241m=\u001b[39m \u001b[43mcompute_reg_logistic_regression\u001b[49m\u001b[43m(\u001b[49m\u001b[43my\u001b[49m\u001b[43m,\u001b[49m\u001b[43m \u001b[49m\u001b[43mtx\u001b[49m\u001b[43m,\u001b[49m\u001b[43m \u001b[49m\u001b[43mw\u001b[49m\u001b[43m,\u001b[49m\u001b[43m \u001b[49m\u001b[43mlambda_\u001b[49m\u001b[43m)\u001b[49m\n\u001b[1;32m    421\u001b[0m \u001b[38;5;66;03m# ***************************************************\u001b[39;00m\n\u001b[1;32m    422\u001b[0m \u001b[38;5;66;03m# update w:\u001b[39;00m\n\u001b[1;32m    423\u001b[0m w \u001b[38;5;241m=\u001b[39m w \u001b[38;5;241m-\u001b[39m gamma \u001b[38;5;241m*\u001b[39m gradient\n",
      "File \u001b[0;32m~/ML Project 1/implementations.py:382\u001b[0m, in \u001b[0;36mcompute_reg_logistic_regression\u001b[0;34m(y, tx, w, lambda_)\u001b[0m\n\u001b[1;32m    355\u001b[0m \u001b[38;5;250m\u001b[39m\u001b[38;5;124;03m\"\"\"return the loss and gradient.\u001b[39;00m\n\u001b[1;32m    356\u001b[0m \n\u001b[1;32m    357\u001b[0m \u001b[38;5;124;03mArgs:\u001b[39;00m\n\u001b[0;32m   (...)\u001b[0m\n\u001b[1;32m    377\u001b[0m \u001b[38;5;124;03m       [ 0.57712843]])\u001b[39;00m\n\u001b[1;32m    378\u001b[0m \u001b[38;5;124;03m\"\"\"\u001b[39;00m\n\u001b[1;32m    379\u001b[0m \u001b[38;5;66;03m# ***************************************************\u001b[39;00m\n\u001b[1;32m    380\u001b[0m \u001b[38;5;66;03m# INSERT YOUR CODE HERE\u001b[39;00m\n\u001b[1;32m    381\u001b[0m \u001b[38;5;66;03m# return loss, gradient: TODO\u001b[39;00m\n\u001b[0;32m--> 382\u001b[0m loss \u001b[38;5;241m=\u001b[39m \u001b[43mcalculate_loss\u001b[49m(y, tx, w) \u001b[38;5;241m+\u001b[39m lambda_ \u001b[38;5;241m*\u001b[39m np\u001b[38;5;241m.\u001b[39msqueeze(w\u001b[38;5;241m.\u001b[39mT\u001b[38;5;241m.\u001b[39mdot(w) )\n\u001b[1;32m    383\u001b[0m gradient \u001b[38;5;241m=\u001b[39m calculate_gradient(y, tx, w) \u001b[38;5;241m+\u001b[39m  \u001b[38;5;241m2\u001b[39m \u001b[38;5;241m*\u001b[39m lambda_ \u001b[38;5;241m*\u001b[39m w \n\u001b[1;32m    384\u001b[0m \u001b[38;5;28;01mreturn\u001b[39;00m loss, gradient\n",
      "\u001b[0;31mNameError\u001b[0m: name 'calculate_loss' is not defined"
     ]
    }
   ],
   "source": [
    "nb_steps = 20\n",
    "lambdas = np.linspace(0,0.4,10)\n",
    "gammas = np.linspace(0,1,10)\n",
    "weights = np.zeros((len(lambdas),len(gammas), x_tr.shape[1]))\n",
    "losses_te = np.zeros((len(lambdas),len(gammas)))\n",
    "\n",
    "for i, lambda_ in enumerate(lambdas):\n",
    "    \n",
    "    for j, gamma in enumerate(gammas):\n",
    "        \n",
    "        w, _ = ridge_regression(y_tr, x_tr, lambda_)\n",
    "\n",
    "        for step in range(nb_steps):\n",
    "\n",
    "            loss, w = reg_logistic_regression(y_tr, x_tr, w, gamma, lambda_)\n",
    "\n",
    "        weights[i,j] = w\n",
    "        loss_te = compute_loss(y_te, x_te, w)\n",
    "        losses_te[i][j] = loss_te           "
   ]
  },
  {
   "cell_type": "code",
   "execution_count": 13,
   "id": "d03998a4-cfd7-4597-b2eb-aa29d988b15f",
   "metadata": {},
   "outputs": [
    {
     "name": "stdout",
     "output_type": "stream",
     "text": [
      "Best lambda :  0.0\n",
      "Best gamma :  0.0\n"
     ]
    }
   ],
   "source": [
    "best_index = np.unravel_index(np.argmin(losses_te), losses_te.shape)\n",
    "row_index, col_index = best_index\n",
    "best_weight = weights[row_index][col_index]\n",
    "print('Best lambda : ', lambdas[row_index])\n",
    "print('Best gamma : ', gammas[col_index])\n",
    "w_final = best_weight"
   ]
  },
  {
   "cell_type": "markdown",
   "id": "0068ed2d-2565-4d42-9fa5-cd502eb624b3",
   "metadata": {},
   "source": [
    "# 5- Test"
   ]
  },
  {
   "cell_type": "markdown",
   "id": "a8c87164-e3ee-4c75-836b-da0af573f56c",
   "metadata": {},
   "source": [
    "Prepare x_test"
   ]
  },
  {
   "cell_type": "code",
   "execution_count": null,
   "id": "2618c988-280f-435c-8afb-e181c30d8b60",
   "metadata": {},
   "outputs": [],
   "source": [
    "x_test = x_test[:,0:]\n",
    "\n",
    "#Remplacer les nan par la mediane de chaque colonne\n",
    "median = np.nanmedian(x_test, axis = 0)\n",
    "x_test_filled = x_test\n",
    "for col in range(x_test.shape[1]):\n",
    "    x_test_filled[:,col] = np.nan_to_num(x_test[:,col], nan= median[col])\n",
    "\n",
    "x_test_standardized, _ = standardize_(x_test_filled)\n",
    "\n",
    "#Enlever les colonnes qui ont une std = 0\n",
    "x_test_cleaned = x_test_standardized[:, col_to_keep]\n",
    "\n",
    "\n",
    "x_test_final = np.delete(x_test_cleaned, indices_correlated, axis = 1)\n",
    "\n",
    "print(x_test_final.shape)"
   ]
  },
  {
   "cell_type": "markdown",
   "id": "ef3b61ae-5c47-433d-9e00-c0e81615e812",
   "metadata": {},
   "source": [
    "Finding y predicted with x_test and w"
   ]
  },
  {
   "cell_type": "code",
   "execution_count": null,
   "id": "47cac8ff-b249-433d-81d8-6baa10beaec0",
   "metadata": {},
   "outputs": [],
   "source": [
    "#y_pred_proba has the proba of each y to be 1 or -1\n",
    "y_pred_proba = sigmoid (np.dot(x_test_final, w_final))\n",
    "\n",
    "#If proba > 0.5, y becomes 1, else -1\n",
    "threshold = 0.5\n",
    "y_pred = (y_pred_proba >= threshold).astype(int)\n",
    "y_pred[y_pred == 0] = -1"
   ]
  },
  {
   "cell_type": "markdown",
   "id": "9f399fdd-6c2c-47e4-b3bc-df4704f79d12",
   "metadata": {},
   "source": [
    "# 6- Creating the submission file"
   ]
  },
  {
   "cell_type": "code",
   "execution_count": null,
   "id": "be853e81-56b4-433c-98c9-e20ea631a505",
   "metadata": {},
   "outputs": [],
   "source": [
    "name = 'test_6.csv '\n",
    "create_csv_submission(test_ids, y_pred, name)"
   ]
  },
  {
   "cell_type": "markdown",
   "id": "a2ee0416-b743-4436-9d0e-8d14f2899d46",
   "metadata": {},
   "source": [
    "### idees\n",
    "- faire extension polynomiale (si on enleve bcp de colonnes grace aux outliers ca prend peutetre pas trop de temps)\n",
    "- sortir les outliers du dataset\n",
    "- enlever les colonnes avec trop de nan ?"
   ]
  },
  {
   "cell_type": "markdown",
   "id": "0994c878-e170-4d9f-b62a-cb7d558b3da0",
   "metadata": {},
   "source": [
    "### Toutes les fonctions utiles pour le cleaning"
   ]
  },
  {
   "cell_type": "code",
   "execution_count": 47,
   "id": "716d9732-886e-4bce-a90f-24c522f4229b",
   "metadata": {
    "tags": []
   },
   "outputs": [],
   "source": [
    "def standardize_(x):\n",
    "    \"\"\"Standardize the original data set.\"\"\"\n",
    "    mean_x = np.mean(x, axis=0)\n",
    "    x = x - mean_x\n",
    "    std_x = np.std(x, axis=0)\n",
    "    # Vérifiez si std_x est nul (zéro) avant de diviser\n",
    "    non_zero_std_indices = std_x != 0\n",
    "    x[:, non_zero_std_indices] = x[:, non_zero_std_indices] / std_x[non_zero_std_indices]\n",
    "    return x, non_zero_std_indices\n",
    "\n",
    "def nan_to_median(data):\n",
    "    #Remplacer les nan par la mediane de chaque colonne\n",
    "    median = np.nanmedian(data, axis = 0)\n",
    "    new_data = data\n",
    "    for col in range(data.shape[1]):\n",
    "        new_data[:,col] = np.nan_to_num(data[:,col], nan= median[col])\n",
    "    return new_data\n",
    "\n",
    "def remove_zero_std_columns(data):\n",
    "    std_data, col_to_keep=standardize_(data)\n",
    "    clean_std_data=std_data[:, col_to_keep]\n",
    "    return clean_std_data, col_to_keep\n",
    "\n",
    "def remove_low_variance_features(data, threshold=0.1):\n",
    "    # Calculate the variance of each feature using NumPy\n",
    "    feature_variances = np.var(data, axis=1)\n",
    "\n",
    "    # Identify features with variance above the threshold\n",
    "    selected_feature_indices = np.where(feature_variances >= threshold)\n",
    "    selected_features = data[:, selected_feature_indices]\n",
    "\n",
    "    return selected_features, selected_feature_indices\n",
    "\n",
    "def remove_high_correlation_feature(data, threshold=0.8):\n",
    "    correlation_matrix = np.corrcoef(data, rowvar = False)\n",
    "    plt.figure(figsize=(3, 3))\n",
    "    plt.imshow(correlation_matrix, cmap='coolwarm', interpolation='nearest')\n",
    "    plt.colorbar()\n",
    "    plt.show()\n",
    "    #Remplacer la partie triangulaire basse de la matrice par des 0\n",
    "    m = np.tril(np.ones(correlation_matrix.shape), k = 0).astype(bool)\n",
    "    correlation_matrix[m] = 0\n",
    "    #Creation of a matrix True/False where True == When the correlation is above the treshold\n",
    "    mask = np.logical_and(np.abs(correlation_matrix) >= threshold, np.abs(correlation_matrix) < 1)\n",
    "    correlated_features = np.where(mask == True)\n",
    "\n",
    "    #indices_correlated has the indices of the correlated columns\n",
    "    col_to_delete = np.unique(correlated_features[0])\n",
    "\n",
    "    #Removes the correlated columns to x_train_cleaned\n",
    "    clean_data = np.delete(data, col_to_delete, axis = 1)\n",
    "    return clean_data, col_to_delete\n",
    "    \n",
    "\n",
    "def remove_outlier_rows(data):\n",
    "    # Calculate the quartiles for each row\n",
    "    Q1 = np.percentile(data, 25, axis=1)\n",
    "    Q3 = np.percentile(data, 75, axis=1)\n",
    "    IQR = Q3 - Q1\n",
    "\n",
    "    # Define lower and upper bounds for outliers\n",
    "    lower_bound = Q1 - 1.5 * IQR\n",
    "    upper_bound = Q3 + 1.5 * IQR\n",
    "\n",
    "    # Filter rows based on bounds\n",
    "    filtered_data = data[(data.min(axis=1) >= lower_bound) & (data.max(axis=1) <= upper_bound), :]\n",
    "    \n",
    "    return filtered_data\n",
    "\n",
    "def replace_remaining_outlier_values (data, threshold=1.5):\n",
    "    medians = np.median(data, axis=0)\n",
    "    for i in range(data.shape[1]):\n",
    "        col = data[:, i]\n",
    "        iqr = np.percentile(col, 75) - np.percentile(col, 25)\n",
    "        lower_bound = np.percentile(col, 25) - threshold * iqr\n",
    "        upper_bound = np.percentile(col, 75) + threshold * iqr\n",
    "        outliers = (col < lower_bound) | (col > upper_bound)\n",
    "        data[outliers, i] = medians[i]\n",
    "    return data"
   ]
  },
  {
   "cell_type": "markdown",
   "id": "53fb959a-f4ba-4e8c-91fc-9784010e4b4b",
   "metadata": {},
   "source": [
    "### Cleaning de xtrain et xtest en même temps"
   ]
  },
  {
   "cell_type": "code",
   "execution_count": 49,
   "id": "ed72e0c0-015b-449f-b408-cc8cb640f7af",
   "metadata": {
    "tags": []
   },
   "outputs": [
    {
     "data": {
      "image/png": "[encoded data removed]",
      "text/plain": [
       "<Figure size 300x300 with 2 Axes>"
      ]
     },
     "metadata": {},
     "output_type": "display_data"
    }
   ],
   "source": [
    "#premiere colonne remplie de Nan (supprimer d autres des premieres colonnes)\n",
    "x_train = x_train[:,0:]\n",
    "x_test = x_train[:,0:]\n",
    "\n",
    "#remplacer Nan par mediane (estce qu on a le droit de faire ca dans xtest? estce que cest une bonne idee ?)\n",
    "x_train=nan_to_median(x_train)\n",
    "x_test=nan_to_median(x_test)\n",
    "\n",
    "#enlever les colonnes qui ont une std nulle\n",
    "x_train, col_to_keep=remove_zero_std_columns(x_train)\n",
    "x_test= x_test[:, col_to_keep]\n",
    "\n",
    "#enlever les colonnes avec trop grande correlation\n",
    "x_train, col_to_delete=remove_high_correlation_feature(x_train)\n",
    "x_test= np.delete(x_test, col_to_delete, axis = 1)\n",
    "\n",
    "#enlever les lignes de outliers\n",
    "x_train=remove_outlier_rows(x_train)\n",
    "\n",
    "#remplacer les outliers dans les colonnes qu'il reste avec la medianne aussi (le faire pour x_test?)\n",
    "x_train=replace_remaining_outlier_values(x_train)"
   ]
  },
  {
   "cell_type": "markdown",
   "id": "c7b354f2-0d40-44eb-811e-27b92aaffe70",
   "metadata": {},
   "source": [
    "### Fonctions utiles pour améliorer le modèle"
   ]
  },
  {
   "cell_type": "code",
   "execution_count": 38,
   "id": "5a86ee75-8f98-440b-85a3-092c30b42556",
   "metadata": {
    "tags": []
   },
   "outputs": [],
   "source": [
    "#fonctions utiles pour améliorer le modèle\n",
    "def build_poly(x, degree):\n",
    "    \"\"\"polynomial basis functions for input data x, for j=0 up to j=degree.\"\"\"\n",
    "    # ***************************************************\n",
    "    # INSERT YOUR CODE HERE\n",
    "    # polynomial basis function: TODO\n",
    "    # this function should return the matrix formed\n",
    "    # by applying the polynomial basis to the input data\n",
    "    poly=np.zeros((x.shape[0], degree+1))\n",
    "    for i in range (x.shape[0]):\n",
    "        for j in range (degree+1):\n",
    "            poly[i, j]=x[i]**j\n",
    "    return poly"
   ]
  }
 ],
 "metadata": {
  "kernelspec": {
   "display_name": "Python3",
   "language": "python",
   "name": "python3"
  },
  "language_info": {
   "codemirror_mode": {
    "name": "ipython",
    "version": 3
   },
   "file_extension": ".py",
   "mimetype": "text/x-python",
   "name": "python",
   "nbconvert_exporter": "python",
   "pygments_lexer": "ipython3",
   "version": "3.11.5"
  }
 },
 "nbformat": 4,
 "nbformat_minor": 5
}
