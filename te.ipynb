{
 "cells": [
  {
   "cell_type": "code",
   "execution_count": 1,
   "id": "c7411424-9be6-4bf6-98ba-6687666ef74e",
   "metadata": {
    "tags": []
   },
   "outputs": [],
   "source": [
    "#Importations\n",
    "from implementations import *\n",
    "from helpers import *\n",
    "import matplotlib.pyplot as plt\n",
    "import numpy as np\n",
    "from functions import *\n",
    "\n",
    "#Loading of data\n",
    "x_train, x_test, y_train, train_ids, test_ids = load_csv_data('dataset_to_release/', sub_sample=False)"
   ]
  },
  {
   "cell_type": "code",
   "execution_count": 2,
   "id": "1ae58eee-33d1-42cc-9612-4cd61aca4101",
   "metadata": {
    "tags": []
   },
   "outputs": [
    {
     "name": "stdout",
     "output_type": "stream",
     "text": [
      "306\n",
      "265\n",
      "Shape of x_train after cleaning:  (328135, 266)\n",
      "Shape of y_train after cleaning:  (328135,)\n",
      "Shape of x_test after cleaning:  (109379, 266)\n"
     ]
    }
   ],
   "source": [
    "#Cleaning of data\n",
    "x_train1, y_train1, x_test1 = clean_data(x_train, y_train, x_test)"
   ]
  },
  {
   "cell_type": "code",
   "execution_count": 3,
   "id": "24815274-198a-4735-8917-7fdaa745ed5d",
   "metadata": {
    "tags": []
   },
   "outputs": [
    {
     "name": "stdout",
     "output_type": "stream",
     "text": [
      "Final x_train :  (328135, 347)\n",
      "Final y_train :  (328135,)\n",
      "Final x_test :  (109379, 347)\n"
     ]
    }
   ],
   "source": [
    "#Expansion of data\n",
    "categorical_columns, numeric_columns, _, _ = separate_column_types(x_train1, max_nb=10)\n",
    "\n",
    "x_train2=build_numerical_cos(x_train1, categorical_columns, numeric_columns)\n",
    "x_test2=build_numerical_cos(x_test1, categorical_columns, numeric_columns)\n",
    "\n",
    "#Spliting of data\n",
    "x_tr, y_tr, x_te, y_te = split_data(x_train2, y_train1)\n",
    "\n",
    "#Creation of balanced subsets\n",
    "sub_y_trains, sub_x_trains = creation_subsets(y_tr, x_tr)\n",
    "\n",
    "print('Final x_train : ', x_train2.shape)\n",
    "print('Final y_train : ', y_train1.shape)\n",
    "print('Final x_test : ', x_test2.shape)"
   ]
  },
  {
   "cell_type": "markdown",
   "id": "433de1cf-ee44-4fa7-9cce-7286037b7db3",
   "metadata": {},
   "source": [
    "## LS"
   ]
  },
  {
   "cell_type": "code",
   "execution_count": 4,
   "id": "afc02d87-bfe4-44ae-8abc-4931892ece53",
   "metadata": {
    "tags": []
   },
   "outputs": [
    {
     "name": "stdout",
     "output_type": "stream",
     "text": [
      "Test of Least Squares : \n",
      "Threshold :  0.6060606060606061\n",
      "Accuracy :  86.87430478309233\n",
      "F1 score :  0.40527478597072636\n"
     ]
    }
   ],
   "source": [
    "weights_LS = []\n",
    "\n",
    "for i in range(len(sub_x_trains)):\n",
    "    w,_ = least_squares(sub_y_trains[i], sub_x_trains[i])\n",
    "    weights_LS.append(w)\n",
    "    \n",
    "w_LS = np.mean(weights_LS, axis = 0)\n",
    "\n",
    "print('Test of Least Squares : ')\n",
    "test(w_LS, x_te, y_te)"
   ]
  },
  {
   "cell_type": "markdown",
   "id": "311ea7dc-2c12-42c0-aaa8-22fb686fbad1",
   "metadata": {},
   "source": [
    "## RIDGE"
   ]
  },
  {
   "cell_type": "code",
   "execution_count": 5,
   "id": "c1c7e7a3-174a-42bd-b120-145ddc789140",
   "metadata": {
    "tags": []
   },
   "outputs": [
    {
     "name": "stdout",
     "output_type": "stream",
     "text": [
      "Test of Ridge Regression: \n",
      "Smallest loss :  0.35336003958415385\n",
      "Best lambda :  0.05789473684210526\n",
      "Threshold :  0.595959595959596\n",
      "Accuracy :  86.6564066618922\n",
      "F1 score :  0.40375842581875127\n"
     ]
    }
   ],
   "source": [
    "lambdas = np.linspace(0,0.1,20)  \n",
    "weights_RIDGE = []\n",
    "losses_te = []\n",
    "acc = []\n",
    "f = []\n",
    "\n",
    "for lambda_ in lambdas:\n",
    "    weights_lambda = []\n",
    "    for i in range(len(sub_x_trains)):\n",
    "        w,_ = ridge_regression(sub_y_trains[i], sub_x_trains[i], lambda_)\n",
    "        weights_lambda.append(w)\n",
    "        \n",
    "    weights_RIDGE.append(np.mean(weights_lambda, axis = 0))\n",
    "    loss = compute_loss(y_te, x_te, np.mean(weights_lambda, axis = 0))\n",
    "    losses_te.append(loss)\n",
    "    f.append(compute_f1(y_te, sigmoid_prediction_ (x_te, np.mean(weights_lambda, axis = 0), threshold=0.59)))\n",
    "    acc.append(accuracy(y_te, sigmoid_prediction_ (x_te, np.mean(weights_lambda, axis = 0), threshold=0.59)))\n",
    "\n",
    "print('Test of Ridge Regression: ')\n",
    "    \n",
    "best_index = losses_te.index(min(losses_te))\n",
    "print('Smallest loss : ',losses_te[best_index])\n",
    "print('Best lambda : ',lambdas[best_index])\n",
    "w_RIDGE = weights_RIDGE[best_index]\n",
    "\n",
    "test(w_RIDGE, x_te, y_te)"
   ]
  },
  {
   "cell_type": "markdown",
   "id": "c8ef9ba6-03f3-4650-be9e-f80714b2c87c",
   "metadata": {},
   "source": [
    "-----"
   ]
  },
  {
   "cell_type": "code",
   "execution_count": null,
   "id": "d207c12f-f0e5-4d9e-a674-5d3f7132d374",
   "metadata": {
    "tags": []
   },
   "outputs": [],
   "source": [
    "w_initial = w_LS"
   ]
  },
  {
   "cell_type": "markdown",
   "id": "a998a364-f9cc-40c2-aedd-074363acea2f",
   "metadata": {},
   "source": [
    "## MSE GD"
   ]
  },
  {
   "cell_type": "code",
   "execution_count": null,
   "id": "7b384b14-6b5a-4227-8fc1-94cb4c6ae08c",
   "metadata": {
    "tags": []
   },
   "outputs": [],
   "source": [
    "losses_te = []\n",
    "weights_MS = []\n",
    "f = []\n",
    "acc = []\n",
    "max_iters = 10\n",
    "gammas = np.linspace(0,1,50)\n",
    "\n",
    "for gamma in gammas :\n",
    "    weights_sub = []\n",
    "    for i in range(len(sub_x_trains)):\n",
    "        w = w_initial\n",
    "        w, loss = mean_squared_error_gd(sub_y_trains[i], sub_x_trains[i], w, max_iters, gamma)\n",
    "        weights_sub.append(w)\n",
    "    weights_MS.append(np.mean(weights_sub, axis = 0))\n",
    "    losses_te.append(compute_loss(y_te, x_te, np.mean(weights_sub, axis = 0)))\n",
    "    f.append(compute_f1(y_te, sigmoid_prediction_ (x_te, np.mean(weights_sub, axis = 0), threshold=0.6)))\n",
    "    acc.append(accuracy(y_te, sigmoid_prediction_ (x_te, np.mean(weights_sub, axis = 0), threshold=0.6)))\n",
    "\n",
    "print('Test of Mean squared error gradient descent: ')    \n",
    "    \n",
    "best_index = f.index(max(f))\n",
    "print('Best gamma : ', gammas[best_index])\n",
    "print('Smallest loss : ', losses_te[best_index])\n",
    "w_final = weights_MS[best_index]   \n",
    "\n",
    "test(w_final, x_te, y_te)\n"
   ]
  },
  {
   "cell_type": "markdown",
   "id": "38ed3746-6fca-45ae-94a0-181f34e6e8af",
   "metadata": {},
   "source": [
    "## MSE SGD"
   ]
  },
  {
   "cell_type": "code",
   "execution_count": null,
   "id": "c3b49906-1b5d-40e9-b7ce-fbb2a1155caa",
   "metadata": {
    "tags": []
   },
   "outputs": [],
   "source": [
    "losses_te = []\n",
    "weights_SMS = []\n",
    "f = []\n",
    "acc = []\n",
    "max_iters = 10\n",
    "batch_size = 20000\n",
    "gammas = np.linspace(0,1,50)\n",
    "\n",
    "for gamma in gammas :\n",
    "    weights_sub = []\n",
    "    for i in range(len(sub_x_trains)):\n",
    "        w = w_initial\n",
    "        w,_ = mean_squared_error_sgd(sub_y_trains[i], sub_x_trains[i], w, max_iters, gamma, batch_size)\n",
    "        weights_sub.append(w)\n",
    "    weights_SMS.append(np.mean(weights_sub, axis = 0))    \n",
    "    losses_te.append(compute_loss(y_te, x_te, np.mean(weights_sub, axis = 0)))\n",
    "    f.append(compute_f1(y_te, sigmoid_prediction_(x_te, np.mean(weights_sub, axis = 0), threshold=0.6)))\n",
    "    acc.append(accuracy(y_te, sigmoid_prediction_ (x_te, np.mean(weights_sub, axis = 0), threshold=0.6)))\n",
    "\n",
    "print('Test of Mean squared error stochastic gradient : ')    \n",
    "    \n",
    "best_index = losses_te.index(min(losses_te))\n",
    "print('Best gamma : ', gammas[best_index])\n",
    "print('Smallest loss : ', losses_te[best_index])\n",
    "w_SMS = weights_SMS[best_index]   \n",
    "\n",
    "test(w_SMS, x_te, y_te)"
   ]
  },
  {
   "cell_type": "markdown",
   "id": "42d0455f-f452-471f-abc3-4e456e46ff2f",
   "metadata": {},
   "source": [
    "## LOG"
   ]
  },
  {
   "cell_type": "code",
   "execution_count": null,
   "id": "e379b83a-bdb1-4a2d-a5ca-4072e05176e3",
   "metadata": {
    "tags": []
   },
   "outputs": [],
   "source": [
    "losses_te = []\n",
    "weights_LOG = []\n",
    "f = []\n",
    "acc = []\n",
    "\n",
    "nb_steps = 15\n",
    "gammas = np.linspace(0,1,50)\n",
    "\n",
    "for gamma in gammas :\n",
    "    weights_gamma = []\n",
    "    for i in range(len(sub_x_trains)):\n",
    "        w = w_initial\n",
    "        w,_ = logistic_regression(sub_y_trains[i], sub_x_trains[i], w, nb_steps, gamma)\n",
    "            \n",
    "        weights_gamma.append(w)\n",
    "        \n",
    "    weights_LOG.append(np.mean(weights_gamma, axis = 0))\n",
    "    losses_te.append(compute_loss(y_te, x_te, np.mean(weights_gamma, axis = 0)))\n",
    "    f.append(compute_f1(y_te, sigmoid_prediction_(x_te, np.mean(weights_gamma, axis = 0), threshold=0.6)))\n",
    "    acc.append(accuracy(y_te, sigmoid_prediction_ (x_te, np.mean(weights_gamma, axis = 0), threshold=0.6)))\n",
    " \n",
    "print('Test of Logistic Regression : ')\n",
    "    \n",
    "best_index = f.index(max(f))\n",
    "print('Best gamma : ', gammas[best_index])\n",
    "print('Smallest loss : ', losses_te[best_index])\n",
    "w_LOG = weights_LOG[best_index]  \n",
    "\n",
    "test(w_LOG, x_te, y_te) "
   ]
  },
  {
   "cell_type": "code",
   "execution_count": null,
   "id": "038e78ed-55af-428a-af93-837f9d42e573",
   "metadata": {},
   "outputs": [],
   "source": []
  },
  {
   "cell_type": "markdown",
   "id": "217562ed-f5c8-40c8-8c41-f03d8da2337d",
   "metadata": {},
   "source": [
    "## REG LOG"
   ]
  },
  {
   "cell_type": "code",
   "execution_count": null,
   "id": "c4f06749-dac2-4e17-8dd0-ae6d9fb3a684",
   "metadata": {
    "tags": []
   },
   "outputs": [],
   "source": [
    "nb_steps = 15\n",
    "lambdas = np.linspace(0,0.1,10)\n",
    "gammas = np.linspace(0,0.2,10)\n",
    "weights_RLOG = np.zeros((len(lambdas),len(gammas), x_tr.shape[1]))\n",
    "losses_te = np.zeros((len(lambdas),len(gammas)))\n",
    "losses_tr = np.zeros((len(lambdas),len(gammas)))\n",
    "\n",
    "for i, lambda_ in enumerate(lambdas):\n",
    "    for j, gamma in enumerate(gammas):\n",
    "        weights_sub = []\n",
    "        for a in range(len(sub_x_trains)):\n",
    "            w = w_initial\n",
    "            for step in range(nb_steps):\n",
    "\n",
    "                w, _ = reg_logistic_regression(sub_y_trains[a], sub_x_trains[a],lambda_, w, nb_steps, gamma)\n",
    "            weights_sub.append(w)\n",
    "\n",
    "        weights_RLOG[i,j] = np.mean(weights_sub, axis = 0)\n",
    "        loss_te = compute_loss(y_te, x_te, np.mean(weights_sub, axis = 0))\n",
    "        loss_tr = compute_loss(y_tr, x_tr, np.mean(weights_sub, axis = 0))\n",
    "        losses_te[i][j] = loss_te \n",
    "        losses_tr[i][j] = loss_tr \n",
    "\n",
    "print('Test of regularized logistic regression :')        \n",
    "best_index = np.unravel_index(np.argmin(losses_te), losses_te.shape)\n",
    "row_index, col_index = best_index\n",
    "best_weight = weights_RLOG[row_index][col_index]\n",
    "print('Best lambda : ', lambdas[row_index])\n",
    "print('Best gamma : ', gammas[col_index])\n",
    "print('Smallest loss : ', losses_te[best_index])\n",
    "w_RLOG = best_weight\n",
    "\n",
    "test(w_RLOG, x_te, y_te)"
   ]
  },
  {
   "cell_type": "code",
   "execution_count": null,
   "id": "e8327c8a-9690-4f9d-81cf-8cd880d5e51e",
   "metadata": {},
   "outputs": [],
   "source": []
  }
 ],
 "metadata": {
  "kernelspec": {
   "display_name": "Python 3 (ipykernel)",
   "language": "python",
   "name": "python3"
  },
  "language_info": {
   "codemirror_mode": {
    "name": "ipython",
    "version": 3
   },
   "file_extension": ".py",
   "mimetype": "text/x-python",
   "name": "python",
   "nbconvert_exporter": "python",
   "pygments_lexer": "ipython3",
   "version": "3.11.4"
  }
 },
 "nbformat": 4,
 "nbformat_minor": 5
}
